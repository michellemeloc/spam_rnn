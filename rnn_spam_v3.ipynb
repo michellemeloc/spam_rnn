{
 "cells": [
  {
   "attachments": {},
   "cell_type": "markdown",
   "metadata": {},
   "source": [
    "# Detecção de SPAM"
   ]
  },
  {
   "attachments": {},
   "cell_type": "markdown",
   "metadata": {},
   "source": [
    "**D3TOP – Tópicos em Ciência de Dados** <br />\n",
    "**D3APL – Aplicações em Ciência de Dados** <br />\n",
    "Especialização em Ciência de Dados - IFSP Campinas  <br />\n",
    "\n",
    "Grupo:\n",
    "- Michelle Melo Cavalcante"
   ]
  },
  {
   "cell_type": "markdown",
   "metadata": {},
   "source": []
  },
  {
   "attachments": {},
   "cell_type": "markdown",
   "metadata": {},
   "source": [
    "## 1. Descrição geral\n",
    "\n",
    "### 1.1. Visão de negócio\n",
    "\n",
    "A detecção de spam por SMS é importante porque protege os usuários finais de links maliciosos e fraudes, economiza tempo e dinheiro, melhora a qualidade do serviço e evita a sobrecarga de rede. Isso garante que apenas mensagens legítimas e relevantes sejam entregues, melhorando a experiência do usuário e a satisfação com o serviço. \n",
    "\n",
    "### 1.2. Conjunto de dados\n",
    "\n",
    "A Coleção de Spam de SMS é um conjunto público de mensagens rotuladas de SMS que foram coletadas para pesquisa de spam em telefones celulares. Os dados obtidos são:\n",
    "- `Category` - Rótulo de identificação se a mensagem é spam ou não,\n",
    "- `Message` - Mensagem enviada.\n",
    "\n",
    "Para obter mais informações sobre os recursos do conjunto de dados, consulte SMS Spam Collection Data Set pelo link https://archive.ics.uci.edu/ml/datasets/SMS+Spam+Collection#.\n",
    "\n",
    "### 1.3. Objetivos\n",
    "\n",
    "Os objetivos deste notebook são:\n",
    "- Expor o problema a ser resolvido\n",
    "- Descrever a base de dados obtida\n",
    "- Executar análise exploratória de dados (AED)\n",
    "- Realizar a limpeza e pré-processamento dos dados\n",
    "- Extração de características e aplicação de modelos de ML\n",
    "- Discussão de resultados e trabalhos futuros\n",
    "- Deploy em produção\n",
    "\n",
    "\n",
    "## 2. Análise Exploratória de dados\n",
    "\n",
    "### 2.1. Importação do dataset e data cleaning"
   ]
  },
  {
   "cell_type": "code",
   "execution_count": null,
   "metadata": {},
   "outputs": [],
   "source": [
    "pip install keras"
   ]
  },
  {
   "cell_type": "code",
   "execution_count": null,
   "metadata": {},
   "outputs": [],
   "source": [
    "pip install tensorflow"
   ]
  },
  {
   "cell_type": "code",
   "execution_count": null,
   "metadata": {},
   "outputs": [],
   "source": [
    "pip install keras.preprocessing"
   ]
  },
  {
   "cell_type": "code",
   "execution_count": 3,
   "metadata": {},
   "outputs": [
    {
     "name": "stdout",
     "output_type": "stream",
     "text": [
      "Collecting pyspark\n",
      "  Downloading pyspark-3.4.0.tar.gz (310.8 MB)\n",
      "\u001b[2K     \u001b[90m━━━━━━━━━━━━━━━━━━━━━━━━━━━━━━━━━━━━━━━\u001b[0m \u001b[32m310.8/310.8 MB\u001b[0m \u001b[31m6.4 MB/s\u001b[0m eta \u001b[36m0:00:00\u001b[0m00:01\u001b[0m00:01\u001b[0m\n",
      "\u001b[?25h  Preparing metadata (setup.py) ... \u001b[?25ldone\n",
      "\u001b[?25hCollecting py4j==0.10.9.7 (from pyspark)\n",
      "  Downloading py4j-0.10.9.7-py2.py3-none-any.whl (200 kB)\n",
      "\u001b[2K     \u001b[90m━━━━━━━━━━━━━━━━━━━━━━━━━━━━━━━━━━━━━━━\u001b[0m \u001b[32m200.5/200.5 kB\u001b[0m \u001b[31m9.2 MB/s\u001b[0m eta \u001b[36m0:00:00\u001b[0m\n",
      "\u001b[?25hBuilding wheels for collected packages: pyspark\n",
      "  Building wheel for pyspark (setup.py) ... \u001b[?25ldone\n",
      "\u001b[?25h  Created wheel for pyspark: filename=pyspark-3.4.0-py2.py3-none-any.whl size=311317130 sha256=c17cad7bb7696cfa6381bc8e206e9b9e569ec765089159a7cfd2522aaa24936c\n",
      "  Stored in directory: /home/codespace/.cache/pip/wheels/7b/1b/4b/3363a1d04368e7ff0d408e57ff57966fcdf00583774e761327\n",
      "Successfully built pyspark\n",
      "Installing collected packages: py4j, pyspark\n",
      "Successfully installed py4j-0.10.9.7 pyspark-3.4.0\n",
      "Note: you may need to restart the kernel to use updated packages.\n"
     ]
    }
   ],
   "source": [
    "pip install pyspark"
   ]
  },
  {
   "cell_type": "code",
   "execution_count": 5,
   "metadata": {},
   "outputs": [],
   "source": [
    "import pandas as pd\n",
    "import numpy as np\n",
    "from sklearn.model_selection import train_test_split\n",
    "from sklearn.preprocessing import LabelEncoder\n",
    "#from sklearn.feature_extraction.text import CountVectorizer\n",
    "from sklearn.metrics import confusion_matrix\n",
    "#from keras.models import Sequential\n",
    "#from keras.layers import Dense, Dropout, Flatten, Embedding\n",
    "#from keras.preprocessing.text import Tokenizer\n",
    "#from keras_preprocessing.sequence import pad_sequences\n",
    "\n",
    "from pyspark.sql import SparkSession\n",
    "from pyspark.ml.classification import RandomForestClassifier\n",
    "from pyspark.ml.feature import Tokenizer, StringIndexer, Word2Vec"
   ]
  },
  {
   "cell_type": "code",
   "execution_count": 6,
   "metadata": {},
   "outputs": [
    {
     "name": "stderr",
     "output_type": "stream",
     "text": [
      "23/04/21 23:25:41 WARN Utils: Your hostname, codespaces-98f670 resolves to a loopback address: 127.0.0.1; using 172.16.5.4 instead (on interface eth0)\n",
      "23/04/21 23:25:41 WARN Utils: Set SPARK_LOCAL_IP if you need to bind to another address\n",
      "Setting default log level to \"WARN\".\n",
      "To adjust logging level use sc.setLogLevel(newLevel). For SparkR, use setLogLevel(newLevel).\n",
      "23/04/21 23:25:41 WARN NativeCodeLoader: Unable to load native-hadoop library for your platform... using builtin-java classes where applicable\n"
     ]
    }
   ],
   "source": [
    "#Sessão\n",
    "spark = SparkSession.builder.appName(\"nlp\").getOrCreate()"
   ]
  },
  {
   "cell_type": "code",
   "execution_count": 9,
   "metadata": {},
   "outputs": [
    {
     "data": {
      "text/plain": [
       "[Row(Category='ham', Message='Go until jurong point, crazy.. Available only in bugis n great world la e buffet... Cine there got amore wat...'),\n",
       " Row(Category='ham', Message='Ok lar... Joking wif u oni...'),\n",
       " Row(Category='spam', Message=\"Free entry in 2 a wkly comp to win FA Cup final tkts 21st May 2005. Text FA to 87121 to receive entry question(std txt rate)T&C's apply 08452810075over18's\"),\n",
       " Row(Category='ham', Message='U dun say so early hor... U c already then say...'),\n",
       " Row(Category='ham', Message=\"Nah I don't think he goes to usf, he lives around here though\")]"
      ]
     },
     "execution_count": 9,
     "metadata": {},
     "output_type": "execute_result"
    }
   ],
   "source": [
    "spam = spark.read.csv(\"data/spam.csv\", encoding=\"latin1\", header=True, inferSchema=True)  #Ler o arquivo CSV em Spark\n",
    "spam.createOrReplaceTempView(\"spam\")                                                      #Registro a tabela 'spam' no SparkSQL \n",
    "spam_df = spark.sql(\"SELECT * FROM spam\")                                                 #Consultar SQL em 'spam' usando o SparkSQL\n",
    "spam_df.head(5)"
   ]
  },
  {
   "cell_type": "code",
   "execution_count": 10,
   "metadata": {},
   "outputs": [
    {
     "data": {
      "text/html": [
       "<div>\n",
       "<style scoped>\n",
       "    .dataframe tbody tr th:only-of-type {\n",
       "        vertical-align: middle;\n",
       "    }\n",
       "\n",
       "    .dataframe tbody tr th {\n",
       "        vertical-align: top;\n",
       "    }\n",
       "\n",
       "    .dataframe thead th {\n",
       "        text-align: right;\n",
       "    }\n",
       "</style>\n",
       "<table border=\"1\" class=\"dataframe\">\n",
       "  <thead>\n",
       "    <tr style=\"text-align: right;\">\n",
       "      <th></th>\n",
       "      <th>Category</th>\n",
       "      <th>Message</th>\n",
       "    </tr>\n",
       "  </thead>\n",
       "  <tbody>\n",
       "    <tr>\n",
       "      <th>0</th>\n",
       "      <td>ham</td>\n",
       "      <td>Go until jurong point, crazy.. Available only ...</td>\n",
       "    </tr>\n",
       "    <tr>\n",
       "      <th>1</th>\n",
       "      <td>ham</td>\n",
       "      <td>Ok lar... Joking wif u oni...</td>\n",
       "    </tr>\n",
       "    <tr>\n",
       "      <th>2</th>\n",
       "      <td>spam</td>\n",
       "      <td>Free entry in 2 a wkly comp to win FA Cup fina...</td>\n",
       "    </tr>\n",
       "    <tr>\n",
       "      <th>3</th>\n",
       "      <td>ham</td>\n",
       "      <td>U dun say so early hor... U c already then say...</td>\n",
       "    </tr>\n",
       "    <tr>\n",
       "      <th>4</th>\n",
       "      <td>ham</td>\n",
       "      <td>Nah I don't think he goes to usf, he lives aro...</td>\n",
       "    </tr>\n",
       "  </tbody>\n",
       "</table>\n",
       "</div>"
      ],
      "text/plain": [
       "  Category                                            Message\n",
       "0      ham  Go until jurong point, crazy.. Available only ...\n",
       "1      ham                      Ok lar... Joking wif u oni...\n",
       "2     spam  Free entry in 2 a wkly comp to win FA Cup fina...\n",
       "3      ham  U dun say so early hor... U c already then say...\n",
       "4      ham  Nah I don't think he goes to usf, he lives aro..."
      ]
     },
     "execution_count": 10,
     "metadata": {},
     "output_type": "execute_result"
    }
   ],
   "source": [
    "df = spam_df.toPandas()     #converter 'spam_df' para um DataFrame\n",
    "df.head(5)"
   ]
  },
  {
   "cell_type": "code",
   "execution_count": 14,
   "metadata": {},
   "outputs": [
    {
     "data": {
      "text/html": [
       "<div>\n",
       "<style scoped>\n",
       "    .dataframe tbody tr th:only-of-type {\n",
       "        vertical-align: middle;\n",
       "    }\n",
       "\n",
       "    .dataframe tbody tr th {\n",
       "        vertical-align: top;\n",
       "    }\n",
       "\n",
       "    .dataframe thead th {\n",
       "        text-align: right;\n",
       "    }\n",
       "</style>\n",
       "<table border=\"1\" class=\"dataframe\">\n",
       "  <thead>\n",
       "    <tr style=\"text-align: right;\">\n",
       "      <th></th>\n",
       "      <th>Category</th>\n",
       "      <th>Message</th>\n",
       "      <th>CategoryIndex</th>\n",
       "    </tr>\n",
       "  </thead>\n",
       "  <tbody>\n",
       "    <tr>\n",
       "      <th>0</th>\n",
       "      <td>ham</td>\n",
       "      <td>Go until jurong point, crazy.. Available only ...</td>\n",
       "      <td>0.0</td>\n",
       "    </tr>\n",
       "    <tr>\n",
       "      <th>1</th>\n",
       "      <td>ham</td>\n",
       "      <td>Ok lar... Joking wif u oni...</td>\n",
       "      <td>0.0</td>\n",
       "    </tr>\n",
       "    <tr>\n",
       "      <th>2</th>\n",
       "      <td>spam</td>\n",
       "      <td>Free entry in 2 a wkly comp to win FA Cup fina...</td>\n",
       "      <td>1.0</td>\n",
       "    </tr>\n",
       "    <tr>\n",
       "      <th>3</th>\n",
       "      <td>ham</td>\n",
       "      <td>U dun say so early hor... U c already then say...</td>\n",
       "      <td>0.0</td>\n",
       "    </tr>\n",
       "    <tr>\n",
       "      <th>4</th>\n",
       "      <td>ham</td>\n",
       "      <td>Nah I don't think he goes to usf, he lives aro...</td>\n",
       "      <td>0.0</td>\n",
       "    </tr>\n",
       "  </tbody>\n",
       "</table>\n",
       "</div>"
      ],
      "text/plain": [
       "  Category                                            Message  CategoryIndex\n",
       "0      ham  Go until jurong point, crazy.. Available only ...            0.0\n",
       "1      ham                      Ok lar... Joking wif u oni...            0.0\n",
       "2     spam  Free entry in 2 a wkly comp to win FA Cup fina...            1.0\n",
       "3      ham  U dun say so early hor... U c already then say...            0.0\n",
       "4      ham  Nah I don't think he goes to usf, he lives aro...            0.0"
      ]
     },
     "execution_count": 14,
     "metadata": {},
     "output_type": "execute_result"
    }
   ],
   "source": [
    "#Transformar coluna Category em número para o modelo possa processar a informação\n",
    "stringmodel = StringIndexer(inputCol=\"Category\", outputCol=\"CategoryIndex\")\n",
    "spamnew = stringmodel.fit(spam).transform(spam)                                      #spark permite fazer o fit e a transformação (transform) e retorna o objeto dataframe spamnew\n",
    "spamnew_df = spamnew.toPandas()\n",
    "spamnew_df.head(5)"
   ]
  },
  {
   "cell_type": "code",
   "execution_count": 17,
   "metadata": {},
   "outputs": [
    {
     "data": {
      "text/html": [
       "<div>\n",
       "<style scoped>\n",
       "    .dataframe tbody tr th:only-of-type {\n",
       "        vertical-align: middle;\n",
       "    }\n",
       "\n",
       "    .dataframe tbody tr th {\n",
       "        vertical-align: top;\n",
       "    }\n",
       "\n",
       "    .dataframe thead th {\n",
       "        text-align: right;\n",
       "    }\n",
       "</style>\n",
       "<table border=\"1\" class=\"dataframe\">\n",
       "  <thead>\n",
       "    <tr style=\"text-align: right;\">\n",
       "      <th></th>\n",
       "      <th>Category</th>\n",
       "      <th>Message</th>\n",
       "      <th>CategoryIndex</th>\n",
       "      <th>MessageToken</th>\n",
       "    </tr>\n",
       "  </thead>\n",
       "  <tbody>\n",
       "    <tr>\n",
       "      <th>0</th>\n",
       "      <td>ham</td>\n",
       "      <td>Go until jurong point, crazy.. Available only ...</td>\n",
       "      <td>0.0</td>\n",
       "      <td>[go, until, jurong, point,, crazy.., available...</td>\n",
       "    </tr>\n",
       "    <tr>\n",
       "      <th>1</th>\n",
       "      <td>ham</td>\n",
       "      <td>Ok lar... Joking wif u oni...</td>\n",
       "      <td>0.0</td>\n",
       "      <td>[ok, lar..., joking, wif, u, oni...]</td>\n",
       "    </tr>\n",
       "    <tr>\n",
       "      <th>2</th>\n",
       "      <td>spam</td>\n",
       "      <td>Free entry in 2 a wkly comp to win FA Cup fina...</td>\n",
       "      <td>1.0</td>\n",
       "      <td>[free, entry, in, 2, a, wkly, comp, to, win, f...</td>\n",
       "    </tr>\n",
       "    <tr>\n",
       "      <th>3</th>\n",
       "      <td>ham</td>\n",
       "      <td>U dun say so early hor... U c already then say...</td>\n",
       "      <td>0.0</td>\n",
       "      <td>[u, dun, say, so, early, hor..., u, c, already...</td>\n",
       "    </tr>\n",
       "    <tr>\n",
       "      <th>4</th>\n",
       "      <td>ham</td>\n",
       "      <td>Nah I don't think he goes to usf, he lives aro...</td>\n",
       "      <td>0.0</td>\n",
       "      <td>[nah, i, don't, think, he, goes, to, usf,, he,...</td>\n",
       "    </tr>\n",
       "  </tbody>\n",
       "</table>\n",
       "</div>"
      ],
      "text/plain": [
       "  Category                                            Message  CategoryIndex  \\\n",
       "0      ham  Go until jurong point, crazy.. Available only ...            0.0   \n",
       "1      ham                      Ok lar... Joking wif u oni...            0.0   \n",
       "2     spam  Free entry in 2 a wkly comp to win FA Cup fina...            1.0   \n",
       "3      ham  U dun say so early hor... U c already then say...            0.0   \n",
       "4      ham  Nah I don't think he goes to usf, he lives aro...            0.0   \n",
       "\n",
       "                                        MessageToken  \n",
       "0  [go, until, jurong, point,, crazy.., available...  \n",
       "1               [ok, lar..., joking, wif, u, oni...]  \n",
       "2  [free, entry, in, 2, a, wkly, comp, to, win, f...  \n",
       "3  [u, dun, say, so, early, hor..., u, c, already...  \n",
       "4  [nah, i, don't, think, he, goes, to, usf,, he,...  "
      ]
     },
     "execution_count": 17,
     "metadata": {},
     "output_type": "execute_result"
    }
   ],
   "source": [
    "#Tokenização\n",
    "tokens = Tokenizer(inputCol=\"Message\", outputCol=\"MessageToken\")\n",
    "spamtoken = tokens.transform(spamnew)\n",
    "spamtoken_df = spamtoken.toPandas()\n",
    "spamtoken_df.head(5)"
   ]
  },
  {
   "cell_type": "code",
   "execution_count": 19,
   "metadata": {},
   "outputs": [
    {
     "name": "stderr",
     "output_type": "stream",
     "text": [
      "                                                                                \r"
     ]
    },
    {
     "data": {
      "text/html": [
       "<div>\n",
       "<style scoped>\n",
       "    .dataframe tbody tr th:only-of-type {\n",
       "        vertical-align: middle;\n",
       "    }\n",
       "\n",
       "    .dataframe tbody tr th {\n",
       "        vertical-align: top;\n",
       "    }\n",
       "\n",
       "    .dataframe thead th {\n",
       "        text-align: right;\n",
       "    }\n",
       "</style>\n",
       "<table border=\"1\" class=\"dataframe\">\n",
       "  <thead>\n",
       "    <tr style=\"text-align: right;\">\n",
       "      <th></th>\n",
       "      <th>Category</th>\n",
       "      <th>Message</th>\n",
       "      <th>CategoryIndex</th>\n",
       "      <th>MessageToken</th>\n",
       "      <th>Messagew2v</th>\n",
       "    </tr>\n",
       "  </thead>\n",
       "  <tbody>\n",
       "    <tr>\n",
       "      <th>0</th>\n",
       "      <td>ham</td>\n",
       "      <td>Go until jurong point, crazy.. Available only ...</td>\n",
       "      <td>0.0</td>\n",
       "      <td>[go, until, jurong, point,, crazy.., available...</td>\n",
       "      <td>[0.005808000502292999, -0.010057617016718723, ...</td>\n",
       "    </tr>\n",
       "    <tr>\n",
       "      <th>1</th>\n",
       "      <td>ham</td>\n",
       "      <td>Ok lar... Joking wif u oni...</td>\n",
       "      <td>0.0</td>\n",
       "      <td>[ok, lar..., joking, wif, u, oni...]</td>\n",
       "      <td>[-0.03447391729181011, 0.07259231914455691, -0...</td>\n",
       "    </tr>\n",
       "    <tr>\n",
       "      <th>2</th>\n",
       "      <td>spam</td>\n",
       "      <td>Free entry in 2 a wkly comp to win FA Cup fina...</td>\n",
       "      <td>1.0</td>\n",
       "      <td>[free, entry, in, 2, a, wkly, comp, to, win, f...</td>\n",
       "      <td>[0.0336706693425575, -0.04170963670393186, -0....</td>\n",
       "    </tr>\n",
       "    <tr>\n",
       "      <th>3</th>\n",
       "      <td>ham</td>\n",
       "      <td>U dun say so early hor... U c already then say...</td>\n",
       "      <td>0.0</td>\n",
       "      <td>[u, dun, say, so, early, hor..., u, c, already...</td>\n",
       "      <td>[-0.042305203757926145, 0.0924930994144895, -0...</td>\n",
       "    </tr>\n",
       "    <tr>\n",
       "      <th>4</th>\n",
       "      <td>ham</td>\n",
       "      <td>Nah I don't think he goes to usf, he lives aro...</td>\n",
       "      <td>0.0</td>\n",
       "      <td>[nah, i, don't, think, he, goes, to, usf,, he,...</td>\n",
       "      <td>[-0.03323681803885847, 0.0245418526017322, 0.0...</td>\n",
       "    </tr>\n",
       "  </tbody>\n",
       "</table>\n",
       "</div>"
      ],
      "text/plain": [
       "  Category                                            Message  CategoryIndex  \\\n",
       "0      ham  Go until jurong point, crazy.. Available only ...            0.0   \n",
       "1      ham                      Ok lar... Joking wif u oni...            0.0   \n",
       "2     spam  Free entry in 2 a wkly comp to win FA Cup fina...            1.0   \n",
       "3      ham  U dun say so early hor... U c already then say...            0.0   \n",
       "4      ham  Nah I don't think he goes to usf, he lives aro...            0.0   \n",
       "\n",
       "                                        MessageToken  \\\n",
       "0  [go, until, jurong, point,, crazy.., available...   \n",
       "1               [ok, lar..., joking, wif, u, oni...]   \n",
       "2  [free, entry, in, 2, a, wkly, comp, to, win, f...   \n",
       "3  [u, dun, say, so, early, hor..., u, c, already...   \n",
       "4  [nah, i, don't, think, he, goes, to, usf,, he,...   \n",
       "\n",
       "                                          Messagew2v  \n",
       "0  [0.005808000502292999, -0.010057617016718723, ...  \n",
       "1  [-0.03447391729181011, 0.07259231914455691, -0...  \n",
       "2  [0.0336706693425575, -0.04170963670393186, -0....  \n",
       "3  [-0.042305203757926145, 0.0924930994144895, -0...  \n",
       "4  [-0.03323681803885847, 0.0245418526017322, 0.0...  "
      ]
     },
     "execution_count": 19,
     "metadata": {},
     "output_type": "execute_result"
    }
   ],
   "source": [
    "#Representação vetorial (criação do embedding)\n",
    "word2vec = Word2Vec(inputCol=\"MessageToken\", outputCol=\"Messagew2v\")\n",
    "spamresult = word2vec.fit(spamtoken).transform(spamtoken)\n",
    "spamresult_df = spamresult.toPandas()\n",
    "spamresult_df.head(5)"
   ]
  },
  {
   "cell_type": "code",
   "execution_count": 21,
   "metadata": {},
   "outputs": [],
   "source": [
    "#Divisão dos dados/Split\n",
    "spamtrain, spamtest = spamresult.randomSplit([0.7,0.3])"
   ]
  },
  {
   "cell_type": "code",
   "execution_count": 22,
   "metadata": {},
   "outputs": [
    {
     "name": "stderr",
     "output_type": "stream",
     "text": [
      "23/04/22 00:05:02 WARN DAGScheduler: Broadcasting large task binary with size 1394.4 KiB\n",
      "23/04/22 00:05:05 WARN DAGScheduler: Broadcasting large task binary with size 2.6 MiB\n",
      "                                                                                \r"
     ]
    }
   ],
   "source": [
    "#criação do modelo\n",
    "rf = RandomForestClassifier(labelCol=\"CategoryIndex\", featuresCol=\"Messagew2v\", numTrees=500)  #coluna variavel dependente / coluna com token / nº de arvores aleatórias\n",
    "modelo = rf.fit(spamtrain)"
   ]
  },
  {
   "cell_type": "code",
   "execution_count": 23,
   "metadata": {},
   "outputs": [],
   "source": [
    "#Previsões\n",
    "previsao = modelo.transform(spamtest)"
   ]
  },
  {
   "cell_type": "code",
   "execution_count": 26,
   "metadata": {},
   "outputs": [
    {
     "name": "stderr",
     "output_type": "stream",
     "text": [
      "23/04/22 00:06:58 WARN DAGScheduler: Broadcasting large task binary with size 2.7 MiB\n",
      "                                                                                \r"
     ]
    },
    {
     "data": {
      "text/html": [
       "<div>\n",
       "<style scoped>\n",
       "    .dataframe tbody tr th:only-of-type {\n",
       "        vertical-align: middle;\n",
       "    }\n",
       "\n",
       "    .dataframe tbody tr th {\n",
       "        vertical-align: top;\n",
       "    }\n",
       "\n",
       "    .dataframe thead th {\n",
       "        text-align: right;\n",
       "    }\n",
       "</style>\n",
       "<table border=\"1\" class=\"dataframe\">\n",
       "  <thead>\n",
       "    <tr style=\"text-align: right;\">\n",
       "      <th></th>\n",
       "      <th>Category</th>\n",
       "      <th>Message</th>\n",
       "      <th>CategoryIndex</th>\n",
       "      <th>MessageToken</th>\n",
       "      <th>Messagew2v</th>\n",
       "      <th>rawPrediction</th>\n",
       "      <th>probability</th>\n",
       "      <th>prediction</th>\n",
       "    </tr>\n",
       "  </thead>\n",
       "  <tbody>\n",
       "    <tr>\n",
       "      <th>0</th>\n",
       "      <td>ham</td>\n",
       "      <td>\"7 wonders in My WORLD 7th You 6th Ur style 5t...</td>\n",
       "      <td>0.0</td>\n",
       "      <td>[\"7, wonders, in, my, world, 7th, you, 6th, ur...</td>\n",
       "      <td>[0.00972666570014553, -0.0020479442086070777, ...</td>\n",
       "      <td>[446.73802604262977, 53.016530125512766, 0.0, ...</td>\n",
       "      <td>[0.8934760520852594, 0.1060330602510255, 0.0, ...</td>\n",
       "      <td>0.0</td>\n",
       "    </tr>\n",
       "    <tr>\n",
       "      <th>1</th>\n",
       "      <td>ham</td>\n",
       "      <td>\"A cute thought for friendship: \"\"Its not nece...</td>\n",
       "      <td>0.0</td>\n",
       "      <td>[\"a, cute, thought, for, friendship:, \"\"its, n...</td>\n",
       "      <td>[0.023858107529122208, -0.02429645996016916, -...</td>\n",
       "      <td>[319.7755678802016, 179.94379503934144, 0.0, 0...</td>\n",
       "      <td>[0.639551135760403, 0.35988759007868276, 0.0, ...</td>\n",
       "      <td>0.0</td>\n",
       "    </tr>\n",
       "    <tr>\n",
       "      <th>2</th>\n",
       "      <td>ham</td>\n",
       "      <td>\"Awesome question with a cute answer: Someone ...</td>\n",
       "      <td>0.0</td>\n",
       "      <td>[\"awesome, question, with, a, cute, answer:, s...</td>\n",
       "      <td>[0.019155969574617654, -0.0189708280018889, 0....</td>\n",
       "      <td>[487.7606197234332, 11.054470026677354, 0.0, 1...</td>\n",
       "      <td>[0.9755212394468662, 0.022108940053354703, 0.0...</td>\n",
       "      <td>0.0</td>\n",
       "    </tr>\n",
       "    <tr>\n",
       "      <th>3</th>\n",
       "      <td>ham</td>\n",
       "      <td>\"Beautiful Truth against Gravity.. Read carefu...</td>\n",
       "      <td>0.0</td>\n",
       "      <td>[\"beautiful, truth, against, gravity.., read, ...</td>\n",
       "      <td>[-0.0056389791414123746, -0.000313028388728316...</td>\n",
       "      <td>[491.7353442163703, 8.227821031760987, 0.0, 0....</td>\n",
       "      <td>[0.9834706884327407, 0.016455642063521975, 0.0...</td>\n",
       "      <td>0.0</td>\n",
       "    </tr>\n",
       "    <tr>\n",
       "      <th>4</th>\n",
       "      <td>ham</td>\n",
       "      <td>\"Best line said in Love: . \"\"I will wait till ...</td>\n",
       "      <td>0.0</td>\n",
       "      <td>[\"best, line, said, in, love:, ., \"\"i, will, w...</td>\n",
       "      <td>[-0.02265100063825095, 0.02101879501370368, -0...</td>\n",
       "      <td>[492.38527827023375, 7.576961791067708, 0.0, 0...</td>\n",
       "      <td>[0.9847705565404674, 0.015153923582135414, 0.0...</td>\n",
       "      <td>0.0</td>\n",
       "    </tr>\n",
       "  </tbody>\n",
       "</table>\n",
       "</div>"
      ],
      "text/plain": [
       "  Category                                            Message  CategoryIndex  \\\n",
       "0      ham  \"7 wonders in My WORLD 7th You 6th Ur style 5t...            0.0   \n",
       "1      ham  \"A cute thought for friendship: \"\"Its not nece...            0.0   \n",
       "2      ham  \"Awesome question with a cute answer: Someone ...            0.0   \n",
       "3      ham  \"Beautiful Truth against Gravity.. Read carefu...            0.0   \n",
       "4      ham  \"Best line said in Love: . \"\"I will wait till ...            0.0   \n",
       "\n",
       "                                        MessageToken  \\\n",
       "0  [\"7, wonders, in, my, world, 7th, you, 6th, ur...   \n",
       "1  [\"a, cute, thought, for, friendship:, \"\"its, n...   \n",
       "2  [\"awesome, question, with, a, cute, answer:, s...   \n",
       "3  [\"beautiful, truth, against, gravity.., read, ...   \n",
       "4  [\"best, line, said, in, love:, ., \"\"i, will, w...   \n",
       "\n",
       "                                          Messagew2v  \\\n",
       "0  [0.00972666570014553, -0.0020479442086070777, ...   \n",
       "1  [0.023858107529122208, -0.02429645996016916, -...   \n",
       "2  [0.019155969574617654, -0.0189708280018889, 0....   \n",
       "3  [-0.0056389791414123746, -0.000313028388728316...   \n",
       "4  [-0.02265100063825095, 0.02101879501370368, -0...   \n",
       "\n",
       "                                       rawPrediction  \\\n",
       "0  [446.73802604262977, 53.016530125512766, 0.0, ...   \n",
       "1  [319.7755678802016, 179.94379503934144, 0.0, 0...   \n",
       "2  [487.7606197234332, 11.054470026677354, 0.0, 1...   \n",
       "3  [491.7353442163703, 8.227821031760987, 0.0, 0....   \n",
       "4  [492.38527827023375, 7.576961791067708, 0.0, 0...   \n",
       "\n",
       "                                         probability  prediction  \n",
       "0  [0.8934760520852594, 0.1060330602510255, 0.0, ...         0.0  \n",
       "1  [0.639551135760403, 0.35988759007868276, 0.0, ...         0.0  \n",
       "2  [0.9755212394468662, 0.022108940053354703, 0.0...         0.0  \n",
       "3  [0.9834706884327407, 0.016455642063521975, 0.0...         0.0  \n",
       "4  [0.9847705565404674, 0.015153923582135414, 0.0...         0.0  "
      ]
     },
     "execution_count": 26,
     "metadata": {},
     "output_type": "execute_result"
    }
   ],
   "source": [
    "previsao_df = previsao.toPandas()\n",
    "previsao_df.head()"
   ]
  },
  {
   "cell_type": "code",
   "execution_count": 28,
   "metadata": {},
   "outputs": [
    {
     "name": "stderr",
     "output_type": "stream",
     "text": [
      "23/04/22 00:13:17 WARN DAGScheduler: Broadcasting large task binary with size 2.6 MiB\n"
     ]
    },
    {
     "name": "stdout",
     "output_type": "stream",
     "text": [
      "0.8545848091302637\n"
     ]
    }
   ],
   "source": [
    "#Performance do modelo\n",
    "#vamos utilizar método para classificação binária\n",
    "\n",
    "from pyspark.ml.evaluation import BinaryClassificationEvaluator\n",
    "avaliar = BinaryClassificationEvaluator(rawPredictionCol=\"prediction\", labelCol=\"CategoryIndex\", metricName=\"areaUnderROC\")    #quanto mais próximo de 1 melhor\n",
    "areaUnderRoc = avaliar.evaluate(previsao)\n",
    "print(areaUnderRoc)"
   ]
  },
  {
   "cell_type": "code",
   "execution_count": 31,
   "metadata": {},
   "outputs": [],
   "source": [
    "#acuracia e matriz confusao?"
   ]
  },
  {
   "cell_type": "code",
   "execution_count": null,
   "metadata": {},
   "outputs": [],
   "source": []
  }
 ],
 "metadata": {
  "kernelspec": {
   "display_name": "Python 3",
   "language": "python",
   "name": "python3"
  },
  "language_info": {
   "codemirror_mode": {
    "name": "ipython",
    "version": 3
   },
   "file_extension": ".py",
   "mimetype": "text/x-python",
   "name": "python",
   "nbconvert_exporter": "python",
   "pygments_lexer": "ipython3",
   "version": "3.10.4"
  },
  "orig_nbformat": 4
 },
 "nbformat": 4,
 "nbformat_minor": 2
}
